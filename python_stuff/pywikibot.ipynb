{
 "cells": [
  {
   "cell_type": "code",
   "execution_count": 1,
   "metadata": {},
   "outputs": [
    {
     "name": "stdout",
     "output_type": "stream",
     "text": [
      "Collecting pywikibot\n",
      "  Downloading pywikibot-8.6.0-py3-none-any.whl (707 kB)\n",
      "                                              0.0/708.0 kB ? eta -:--:--\n",
      "     ------------                           225.3/708.0 kB 6.9 MB/s eta 0:00:01\n",
      "     ------------------------               460.8/708.0 kB 7.3 MB/s eta 0:00:01\n",
      "     -----------------------------------    665.6/708.0 kB 7.0 MB/s eta 0:00:01\n",
      "     -------------------------------------- 708.0/708.0 kB 5.6 MB/s eta 0:00:00\n",
      "Collecting mwparserfromhell>=0.5.2 (from pywikibot)\n",
      "  Downloading mwparserfromhell-0.6.6-cp311-cp311-win_amd64.whl (100 kB)\n",
      "                                              0.0/100.7 kB ? eta -:--:--\n",
      "     -------------------------------------- 100.7/100.7 kB 6.0 MB/s eta 0:00:00\n",
      "Requirement already satisfied: setuptools>=48.0.0 in c:\\users\\mariu\\scoop\\apps\\python\\current\\lib\\site-packages (from pywikibot) (65.5.0)\n",
      "Requirement already satisfied: requests>=2.21.0 in c:\\users\\mariu\\scoop\\apps\\python\\current\\lib\\site-packages (from pywikibot) (2.31.0)\n",
      "Requirement already satisfied: charset-normalizer<4,>=2 in c:\\users\\mariu\\scoop\\apps\\python\\current\\lib\\site-packages (from requests>=2.21.0->pywikibot) (3.1.0)\n",
      "Requirement already satisfied: idna<4,>=2.5 in c:\\users\\mariu\\scoop\\apps\\python\\current\\lib\\site-packages (from requests>=2.21.0->pywikibot) (2.10)\n",
      "Requirement already satisfied: urllib3<3,>=1.21.1 in c:\\users\\mariu\\scoop\\apps\\python\\current\\lib\\site-packages (from requests>=2.21.0->pywikibot) (2.0.3)\n",
      "Requirement already satisfied: certifi>=2017.4.17 in c:\\users\\mariu\\scoop\\apps\\python\\current\\lib\\site-packages (from requests>=2.21.0->pywikibot) (2023.5.7)\n",
      "Installing collected packages: mwparserfromhell, pywikibot\n",
      "Successfully installed mwparserfromhell-0.6.6 pywikibot-8.6.0\n"
     ]
    },
    {
     "name": "stderr",
     "output_type": "stream",
     "text": [
      "\n",
      "[notice] A new release of pip is available: 23.1.2 -> 24.0\n",
      "[notice] To update, run: python.exe -m pip install --upgrade pip\n"
     ]
    }
   ],
   "source": [
    "!pip install pywikibot"
   ]
  },
  {
   "cell_type": "code",
   "execution_count": 3,
   "metadata": {},
   "outputs": [
    {
     "name": "stdout",
     "output_type": "stream",
     "text": [
      "^C\n"
     ]
    }
   ],
   "source": [
    "!pwb generate_user_files"
   ]
  },
  {
   "cell_type": "code",
   "execution_count": 2,
   "metadata": {},
   "outputs": [],
   "source": [
    "import pywikibot"
   ]
  },
  {
   "cell_type": "code",
   "execution_count": null,
   "metadata": {},
   "outputs": [],
   "source": [
    "\n",
    "\n",
    "def main():\n",
    "    # Connect to the wiki\n",
    "    site = pywikibot.Site(\"en\", \"wiki.bmod.tf\")  # Change \"en\" to the appropriate language code if necessary\n",
    "\n",
    "    # Log in to the wiki\n",
    "    site.login()\n",
    "\n",
    "    # Get the first 10 pages in the main namespace\n",
    "    pages = site.allpages(namespace=0, total=10)\n",
    "\n",
    "    # Print the titles of the pages\n",
    "    for page in pages:\n",
    "        print(page.title())\n",
    "\n",
    "if __name__ == \"__main__\":\n",
    "    main()"
   ]
  }
 ],
 "metadata": {
  "kernelspec": {
   "display_name": "Python 3",
   "language": "python",
   "name": "python3"
  },
  "language_info": {
   "codemirror_mode": {
    "name": "ipython",
    "version": 3
   },
   "file_extension": ".py",
   "mimetype": "text/x-python",
   "name": "python",
   "nbconvert_exporter": "python",
   "pygments_lexer": "ipython3",
   "version": "3.11.3"
  }
 },
 "nbformat": 4,
 "nbformat_minor": 2
}
